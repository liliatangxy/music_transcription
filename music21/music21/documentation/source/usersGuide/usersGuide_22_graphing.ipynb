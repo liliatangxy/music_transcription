{
 "cells": [
  {
   "cell_type": "code",
   "execution_count": 2,
   "metadata": {
    "collapsed": false
   },
   "outputs": [],
   "source": [
    "# ignore this\n",
    "%load_ext music21.ipython21\n",
    "%matplotlib inline"
   ]
  },
  {
   "cell_type": "markdown",
   "metadata": {},
   "source": [
    "User’s Guide, Chapter 22: Graphing\n",
    "=================================="
   ]
  },
  {
   "cell_type": "markdown",
   "metadata": {},
   "source": [
    "There are a number of ways to visualize notes, scores, and measures in music21."
   ]
  },
  {
   "cell_type": "markdown",
   "metadata": {},
   "source": [
    "## Visualizing Streams in Plots"
   ]
  },
  {
   "cell_type": "markdown",
   "metadata": {},
   "source": [
    "While the :meth:`~music21.base.Music21Object.show` method provides common\n",
    "musical views of a Stream, a visual plot a Stream's elements is very \n",
    "useful. Sometimes called a piano roll, we might graph the pitch of a \n",
    "Note over its position in a Measure (or offset if no Measures are \n",
    "defined). The :meth:`~music21.stream.Stream.plot` method permits us to \n",
    "create a plot of any Stream or Stream subclass (note that the additional\n",
    "package matplotlib needs to be installed to run graphs, see :ref:`installAdditional`\n",
    "for more information). There are a large variety \n",
    "of plots: see :ref:`moduleGraph` for a complete list. There are a number \n",
    "of ways to get the desired plot; one, as demonstrated below, is to provide \n",
    "the name of the plot as a string. We can also add a keyword argument for \n",
    "the title of the plot (and configure many other features)."
   ]
  },
  {
   "cell_type": "code",
   "execution_count": 3,
   "metadata": {
    "collapsed": false
   },
   "outputs": [
    {
     "data": {
      "image/png": "[encoded data removed]",
      "text/plain": [
       "<matplotlib.figure.Figure at 0x103dd54e0>"
      ]
     },
     "metadata": {},
     "output_type": "display_data"
    }
   ],
   "source": [
    "from music21 import *\n",
    "sBach = corpus.parse('bach/bwv57.8')\n",
    "sBach.getElementById('Soprano').plot('PlotHorizontalBarPitchSpaceOffset', title='Soprano')"
   ]
  },
  {
   "cell_type": "markdown",
   "metadata": {},
   "source": [
    "Just getting started here... hang tight. :-)"
   ]
  }
 ],
 "metadata": {
  "kernelspec": {
   "display_name": "Python 3",
   "language": "python",
   "name": "python3"
  },
  "language_info": {
   "codemirror_mode": {
    "name": "ipython",
    "version": 3
   },
   "file_extension": ".py",
   "mimetype": "text/x-python",
   "name": "python",
   "nbconvert_exporter": "python",
   "pygments_lexer": "ipython3",
   "version": "3.4.3"
  }
 },
 "nbformat": 4,
 "nbformat_minor": 0
}
