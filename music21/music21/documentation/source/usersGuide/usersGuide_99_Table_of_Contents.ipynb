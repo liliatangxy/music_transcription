{
 "cells": [
  {
   "cell_type": "markdown",
   "metadata": {
    "sphinx_links": {
     "any": true
    }
   },
   "source": [
    "# User's Guide: Table of Contents\n",
    "\n",
    "This is the table of contents for the eventual User's Guide, where topics will be linked and added as the topics are written:\n",
    "\n",
    ":ref:`Introduction <what>`\n",
    "\n",
    "1.\t:ref:`Installing <usersGuide_01_installing>`\n",
    "2.\t:ref:`Notes <usersGuide_02_notes>`\n",
    "3.\t:ref:`Pitches, Durations, Notes again <usersGuide_03_pitches>`\n",
    "4.\t:ref:`Basic Streams <usersGuide_04_stream1>`\n",
    "5.\t:ref:`Lists of Lists <usersGuide_05_listsOfLists>`\n",
    "6.\t:ref:`Nested Streams and Basic Hierarchies <usersGuide_06_stream2>`\n",
    "7.\t:ref:`Chords <usersGuide_07_chords>`\n",
    "8.\t:ref:`Installing MusicXML Readers and File Formats (1) <usersGuide_08_installingMusicXML>`\n",
    "9.\t:ref:`Chordify <usersGuide_09_chordify>`\n",
    "10.\t:ref:`Examples 1 <usersGuide_10_examples1>`\n",
    "11.\t:ref:`Corpus Studies <usersGuide_11_corpusSearching>`\n",
    "12. :ref:`Getting back to basics: the Music21Object <usersGuide_12_music21object>`\n",
    "13.\tStreams 3: Manipulation: inPlace, and deepcopy\n",
    "14.\t:ref:`Time Signatures <usersGuide_14_timeSignatures>`\n",
    "15.\tKey Signatures and Keys\n",
    "16.\tIntervals\n",
    "17. :ref:`Derivations <usersGuide_17_derivations>`\n",
    "18.\tMore durations: Complex, ties, and tuplets\n",
    "19.\tEnvironment\n",
    "20.\tBasic Analysis Tools\n",
    "21. :ref:`Order and Sorting of Streams <usersGuide_21_sorting>`\n",
    "22.\t:ref:`Graphing <usersGuide_22_graphing>`\n",
    "23.\t:ref:`Advanced Corpus and Metadata Searching <usersGuide_23_advancedCorpus>`\n",
    "24.\tExamples 2\n",
    "25.\t:ref:`Post tonal tools (1) <usersGuide_25_postTonalTools1>`\n",
    "26. :ref:`Clients and Weakreferences <usersGuide_26_clientWeakref>`\n",
    "\n",
    "To be numbered later:\n",
    "\n",
    "xx.\tBars and Layout\n",
    "xx.\tRepeats\n",
    "xx.\tFreezeThaw\n",
    "xx.\tSlurs\n",
    "xx.\tSpanners\n",
    "xx.\tOssias, Variants, and musicDiff\n",
    "xx.\tDynamics\n",
    "xx.\tSearching in and among Scores\n",
    "xx.\tVoice leading\n",
    "xx. Automatic Reduction with OffsetTrees\n",
    "xx.\tTinyNotation (2): Expanding and subclassing\n",
    "xx.\tClefs and Articulations\n",
    "xx.\tInstruments\n",
    "xx.\tScales\n",
    "xx.\tAudio searching\n",
    "xx.\tSpecies counterpoint\n",
    "xx.\tRoman numeral analysis\n",
    "xx.\tComposing algorithmic music\n",
    "xx.\tFeature Extraction (1)\n",
    "xx.\tRepeats\n",
    "xx.\tPost tonal tools (2): Advanced and Xenakis Sieves\n",
    "xx.\tChord symbols\n",
    "xx.\tExpressions\n",
    "xx.\tTempo\n",
    "xx.\tFeature Extraction (2)\n",
    "xx.\tFigured Bass\n",
    "xx.\tMIDI -- advanced\n",
    "xx.\tMedieval and Renaissance extensions\n",
    "54. :ref:`Extending Converter with New Formats <usersGuide_54_extendingConverter>`\n",
    "55. :ref:`Advanced Meter topics <usersGuide_55_advancedMeter>`"
   ]
  },
  {
   "cell_type": "code",
   "execution_count": null,
   "metadata": {
    "collapsed": true
   },
   "outputs": [],
   "source": []
  }
 ],
 "metadata": {
  "kernelspec": {
   "display_name": "Python 3",
   "language": "python",
   "name": "python3"
  },
  "language_info": {
   "codemirror_mode": {
    "name": "ipython",
    "version": 3
   },
   "file_extension": ".py",
   "mimetype": "text/x-python",
   "name": "python",
   "nbconvert_exporter": "python",
   "pygments_lexer": "ipython3",
   "version": "3.4.3"
  }
 },
 "nbformat": 4,
 "nbformat_minor": 0
}
