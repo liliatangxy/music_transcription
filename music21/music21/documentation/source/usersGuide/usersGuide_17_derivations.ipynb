{
 "cells": [
  {
   "cell_type": "code",
   "execution_count": 1,
   "metadata": {
    "collapsed": false
   },
   "outputs": [],
   "source": [
    "# ignore this\n",
    "%load_ext music21.ipython21"
   ]
  },
  {
   "cell_type": "markdown",
   "metadata": {},
   "source": [
    "# User's Guide: Chapter 17: Derivations"
   ]
  },
  {
   "cell_type": "markdown",
   "metadata": {},
   "source": [
    "Suppose you have a ``music21`` score that was organized something like this:"
   ]
  },
  {
   "cell_type": "markdown",
   "metadata": {},
   "source": [
    "![Figure 17.1: Score hierarchy](graphicalRepresentation/music21_hierarchy.jpg)"
   ]
  },
  {
   "cell_type": "markdown",
   "metadata": {},
   "source": [
    "What we've seen already is that iterating over the score via, ``for n in score: print n`` will only get you the highest level of objects, namely the ``Metadata`` object and the two ``Part`` objects.  The inner objects, measures, clefs, notes, etc. Will not be available.  The simplest way of getting at all these objects is with the ``Stream.flat`` property.  Calling it on this score will change the representation so that only the non-stream elements (the pink ovals) remain in the score:"
   ]
  },
  {
   "cell_type": "markdown",
   "metadata": {},
   "source": [
    "![Figure 17.2: Flat Score](graphicalRepresentation/music21_flat.jpg)"
   ]
  },
  {
   "cell_type": "markdown",
   "metadata": {},
   "source": [
    "This should be a review from previous chapters in the User's Guide.  This section explains the relationship between the original ``stream.Score`` object, which we will call ``s``, and the ``flat`` representation, which we will call ``s.flat`` or ``sf``.  The relationship between the two is called a ``Derivation``.  Symbolically, this representation can be visualized as follows:"
   ]
  },
  {
   "cell_type": "markdown",
   "metadata": {},
   "source": [
    "![Figure 17.3: Derivation representation](graphicalRepresentation/music21_derivation.jpg)"
   ]
  }
 ],
 "metadata": {
  "kernelspec": {
   "display_name": "Python 3",
   "language": "python",
   "name": "python3"
  },
  "language_info": {
   "codemirror_mode": {
    "name": "ipython",
    "version": 3
   },
   "file_extension": ".py",
   "mimetype": "text/x-python",
   "name": "python",
   "nbconvert_exporter": "python",
   "pygments_lexer": "ipython3",
   "version": "3.4.3"
  }
 },
 "nbformat": 4,
 "nbformat_minor": 0
}
