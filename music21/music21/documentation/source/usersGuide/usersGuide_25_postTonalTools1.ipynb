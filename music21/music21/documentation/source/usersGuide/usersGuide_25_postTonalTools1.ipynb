{
 "cells": [
  {
   "cell_type": "code",
   "execution_count": 1,
   "metadata": {
    "collapsed": false
   },
   "outputs": [],
   "source": [
    "# ignore this\n",
    "%load_ext music21.ipython21"
   ]
  },
  {
   "cell_type": "markdown",
   "metadata": {},
   "source": [
    "User's Guide, Chapter 25: Post-Tonal Tools (1)\n",
    "=============================================="
   ]
  },
  {
   "cell_type": "markdown",
   "metadata": {},
   "source": [
    "The music21 toolkit features many tools for analyzing and creating music within\n",
    "a post-tonal context. A :class:`~music21.chord.Chord` can be identified as a\n",
    "Forte class, a list of pitch classes can be used to create a 12-tone matrix,\n",
    "and many other analytical tools are available. \n",
    "\n",
    "This overview will illustrate key features of music21's post tonal tools. For\n",
    "complete documentation on post-tonal tools, see the many methods in\n",
    ":class:`~music21.chord.Chord` as well as the objects in :ref:`moduleSerial`,\n",
    "such as :class:`~music21.serial.TwelveToneMatrix` and\n",
    ":class:`~music21.serial.TwelveToneRow`."
   ]
  },
  {
   "cell_type": "markdown",
   "metadata": {},
   "source": [
    "## Pitches as Pitch Classes"
   ]
  },
  {
   "cell_type": "markdown",
   "metadata": {},
   "source": [
    "Any music21 :class:`~music21.pitch.Pitch`, or a  :class:`~music21.note.Note`\n",
    "containing Pitch, can be expressed as pitch class integers using the\n",
    ":meth:`pitchClass <music21.pitch.Pitch.pitchClass>` and\n",
    ":meth:`pitchClassString <music21.pitch.Pitch.pitchClassString>` properties. \n",
    "\n",
    "In the following example, the :func:`~music21.corpus.parse` function is\n",
    "used to create a :class:`~music21.stream.Score` object. The\n",
    ":meth:`id <music21.base.Music21Object.id>` attribute of each contained\n",
    ":class:`~music21.stream.Part` is presented in a list. "
   ]
  },
  {
   "cell_type": "code",
   "execution_count": 2,
   "metadata": {
    "collapsed": false
   },
   "outputs": [
    {
     "data": {
      "text/plain": [
       "['Violin I.', 'Violin II.', 'Viola.', 'Violoncello.']"
      ]
     },
     "execution_count": 2,
     "metadata": {},
     "output_type": "execute_result"
    }
   ],
   "source": [
    "from music21 import *\n",
    "aScore = corpus.parse('beethoven/opus59no2', 3)\n",
    "[e.id for e in aScore.parts]"
   ]
  },
  {
   "cell_type": "markdown",
   "metadata": {},
   "source": [
    "We can view the fourth and fifth measures of the violin Part by obtaining the\n",
    "Part from the Stream with :meth:`~music21.stream.Stream.getElementById` method.\n",
    "Next, we can extract the desired measures with the\n",
    ":meth:`~music21.stream.Stream.measures` method. Calling the\n",
    ":meth:`~music21.base.Music21Object.show` method will, assuming correct setup of your\n",
    "environment, open a display of the extracted measures."
   ]
  },
  {
   "cell_type": "code",
   "execution_count": 3,
   "metadata": {
    "collapsed": false
   },
   "outputs": [
    {
     "data": {
      "image/png": "[encoded data removed]",
      "text/plain": [
       "<music21.ipython21.objects.IPythonPNGObject at 0x105ca21d0>"
      ]
     },
     "execution_count": 3,
     "metadata": {},
     "output_type": "execute_result"
    }
   ],
   "source": [
    "vlnPart = aScore.getElementById('Violin I.')\n",
    "mRange = vlnPart.measures(4,7)\n",
    "mRange.show()"
   ]
  },
  {
   "cell_type": "markdown",
   "metadata": {},
   "source": [
    "If we want to gather all :class:`~music21.pitch.Pitch` objects from this\n",
    "measure range, we can use the :meth:`pitches <music21.stream.Stream.pitches>` property.\n",
    "This returns a list of all Pitch objects. All pitch objects have\n",
    ":meth:`pitchClass <music21.pitch.Pitch.pitchClass>` and\n",
    ":meth:`pitchClassString <music21.pitch.Pitch.pitchClassString>` properties, providing either integer\n",
    "or string representations, respectively."
   ]
  },
  {
   "cell_type": "code",
   "execution_count": 4,
   "metadata": {
    "collapsed": false
   },
   "outputs": [
    {
     "data": {
      "text/plain": [
       "['A4',\n",
       " 'F#4',\n",
       " 'G4',\n",
       " 'G4',\n",
       " 'B4',\n",
       " 'E5',\n",
       " 'G5',\n",
       " 'G5',\n",
       " 'G5',\n",
       " 'C#6',\n",
       " 'E6',\n",
       " 'E6',\n",
       " 'E6',\n",
       " 'G6',\n",
       " 'C#5']"
      ]
     },
     "execution_count": 4,
     "metadata": {},
     "output_type": "execute_result"
    }
   ],
   "source": [
    "[str(p) for p in mRange.pitches]"
   ]
  },
  {
   "cell_type": "code",
   "execution_count": 5,
   "metadata": {
    "collapsed": false
   },
   "outputs": [
    {
     "data": {
      "text/plain": [
       "[9, 6, 7, 7, 11, 4, 7, 7, 7, 1, 4, 4, 4, 7, 1]"
      ]
     },
     "execution_count": 5,
     "metadata": {},
     "output_type": "execute_result"
    }
   ],
   "source": [
    "[p.pitchClass for p in mRange.pitches]"
   ]
  },
  {
   "cell_type": "markdown",
   "metadata": {},
   "source": [
    "If we want to label the notes in our measure range with the Note's pitch class\n",
    "representation, we can iterate over the notes and assign the pitch class\n",
    "representation to the Note's lyric.  This is a common way to annotate Note and\n",
    "Chord objects in music21. The results can be displayed with the `show()` method.\n",
    "\n",
    "Here is the image from when we were using a Beethoven Quartet as an example:"
   ]
  },
  {
   "cell_type": "code",
   "execution_count": 6,
   "metadata": {
    "collapsed": false
   },
   "outputs": [
    {
     "data": {
      "image/png": "[encoded data removed]",
      "text/plain": [
       "<music21.ipython21.objects.IPythonPNGObject at 0x1055128d0>"
      ]
     },
     "execution_count": 6,
     "metadata": {},
     "output_type": "execute_result"
    }
   ],
   "source": [
    "for n in mRange.flat.notes:\n",
    "    if n.tie is None or n.tie.type == 'start':\n",
    "        n.lyric = n.pitchClassString\n",
    "mRange.show()"
   ]
  },
  {
   "cell_type": "markdown",
   "metadata": {},
   "source": [
    "## Chords as Forte Set Classes"
   ]
  },
  {
   "cell_type": "markdown",
   "metadata": {},
   "source": [
    "Any music21 Chord can be interpreted as a Forte set class. Additional, a wide\n",
    "variety of analytical features, derived from the Forte set class, are available\n",
    "as methods of the chord. \n",
    "\n",
    "For an example, lets create a sequence of generated aggregate-completing\n",
    "trichords stored on a Stream. That is, we will construct chords with pitch\n",
    "classes, drawing them from a list of all pitch classes. These pitches will be\n",
    "supplied to a Chord object and stored on a Stream."
   ]
  },
  {
   "cell_type": "code",
   "execution_count": 8,
   "metadata": {
    "collapsed": false
   },
   "outputs": [
    {
     "data": {
      "image/png": "[encoded data removed]",
      "text/plain": [
       "<music21.ipython21.objects.IPythonPNGObject at 0x1054c5358>"
      ]
     },
     "execution_count": 8,
     "metadata": {},
     "output_type": "execute_result"
    }
   ],
   "source": [
    "aStream = stream.Stream()\n",
    "src = list(range(12)) # cheate a list of integers 0 through 11\n",
    "src = src[2:4] + src[0:2] + src[8:9] + src[4:8] + src[9:12] # recombine\n",
    "for i in range(0,12,3):\n",
    "    aStream.append(chord.Chord(src[i:i+3]))\n",
    "    \n",
    "aStream.show()"
   ]
  },
  {
   "cell_type": "markdown",
   "metadata": {},
   "source": [
    "These Chords, like all Chords in music21, can be interpreted as Forte set\n",
    "classes. The Chord object offers numerous methods that retrieve data from the\n",
    "set class representation of the Chord. The following is just a sampling of some\n",
    "of the many relevant methods. "
   ]
  },
  {
   "cell_type": "code",
   "execution_count": 9,
   "metadata": {
    "collapsed": false
   },
   "outputs": [
    {
     "name": "stdout",
     "output_type": "stream",
     "text": [
      "<023>\n",
      "<148>\n",
      "<567>\n",
      "<9AB>\n"
     ]
    }
   ],
   "source": [
    "for c in aStream: \n",
    "    print(c.orderedPitchClassesString)"
   ]
  },
  {
   "cell_type": "code",
   "execution_count": 10,
   "metadata": {
    "collapsed": false
   },
   "outputs": [
    {
     "name": "stdout",
     "output_type": "stream",
     "text": [
      "3-2B\n",
      "3-11A\n",
      "3-1\n",
      "3-1\n"
     ]
    }
   ],
   "source": [
    "for c in aStream: \n",
    "    print(c.forteClass)"
   ]
  },
  {
   "cell_type": "code",
   "execution_count": 11,
   "metadata": {
    "collapsed": false
   },
   "outputs": [
    {
     "name": "stdout",
     "output_type": "stream",
     "text": [
      "3-2\n",
      "3-11\n",
      "3-1\n",
      "3-1\n"
     ]
    }
   ],
   "source": [
    "for c in aStream: \n",
    "    print(c.forteClassTnI)"
   ]
  },
  {
   "cell_type": "code",
   "execution_count": 12,
   "metadata": {
    "collapsed": false
   },
   "outputs": [
    {
     "name": "stdout",
     "output_type": "stream",
     "text": [
      "[0, 2, 3]\n",
      "[0, 3, 7]\n",
      "[0, 1, 2]\n",
      "[0, 1, 2]\n"
     ]
    }
   ],
   "source": [
    "for c in aStream: \n",
    "    print(c.normalForm)"
   ]
  },
  {
   "cell_type": "code",
   "execution_count": 13,
   "metadata": {
    "collapsed": false
   },
   "outputs": [
    {
     "name": "stdout",
     "output_type": "stream",
     "text": [
      "<013>\n",
      "<037>\n",
      "<012>\n",
      "<012>\n"
     ]
    }
   ],
   "source": [
    "for c in aStream: \n",
    "    print(c.primeFormString)"
   ]
  },
  {
   "cell_type": "code",
   "execution_count": 14,
   "metadata": {
    "collapsed": false
   },
   "outputs": [
    {
     "name": "stdout",
     "output_type": "stream",
     "text": [
      "[1, 1, 1, 0, 0, 0]\n",
      "[0, 0, 1, 1, 1, 0]\n",
      "[2, 1, 0, 0, 0, 0]\n",
      "[2, 1, 0, 0, 0, 0]\n"
     ]
    }
   ],
   "source": [
    "for c in aStream: \n",
    "    print(c.intervalVector)"
   ]
  },
  {
   "cell_type": "markdown",
   "metadata": {},
   "source": [
    "To annotate the Chords stored on the Stream with their Forte name, we can\n",
    "iterate over the Stream and assign the Forte name to each Chord's `lyric`\n",
    "attribute."
   ]
  },
  {
   "cell_type": "code",
   "execution_count": 15,
   "metadata": {
    "collapsed": false
   },
   "outputs": [
    {
     "data": {
      "image/png": "[encoded data removed]",
      "text/plain": [
       "<music21.ipython21.objects.IPythonPNGObject at 0x10549ceb8>"
      ]
     },
     "execution_count": 15,
     "metadata": {},
     "output_type": "execute_result"
    }
   ],
   "source": [
    "for c in aStream:\n",
    "    c.lyric = c.forteClass\n",
    "aStream.show()"
   ]
  },
  {
   "cell_type": "markdown",
   "metadata": {},
   "source": [
    "We can use the `itertools.combinations` function to find all possible subsets of a chord for a given cardinality. (Hat tip to John Chittum for the hint).  Here is the `all tri-chord hexachord` which contains within it all possible three-note chords under inversion and transposition:"
   ]
  },
  {
   "cell_type": "code",
   "execution_count": 16,
   "metadata": {
    "collapsed": false
   },
   "outputs": [
    {
     "data": {
      "text/plain": [
       "'all tri-chord hexachord'"
      ]
     },
     "execution_count": 16,
     "metadata": {},
     "output_type": "execute_result"
    }
   ],
   "source": [
    "import itertools\n",
    "c = chord.Chord([0, 1, 2, 4, 7, 8])\n",
    "c.commonName"
   ]
  },
  {
   "cell_type": "markdown",
   "metadata": {},
   "source": [
    "Now we'll test this create a set to hold the Forte number for each trichord and see that all twelve of them are there:"
   ]
  },
  {
   "cell_type": "code",
   "execution_count": 17,
   "metadata": {
    "collapsed": false
   },
   "outputs": [
    {
     "data": {
      "text/plain": [
       "{1, 2, 3, 4, 5, 6, 7, 8, 9, 10, 11, 12}"
      ]
     },
     "execution_count": 17,
     "metadata": {},
     "output_type": "execute_result"
    }
   ],
   "source": [
    "cc = set()\n",
    "for i in itertools.combinations(c.pitches, 3):\n",
    "    cc.add(chord.Chord(i).forteClassNumber)\n",
    "cc"
   ]
  },
  {
   "cell_type": "markdown",
   "metadata": {},
   "source": [
    "## Creating and Processing Twelve-Tone Matrices"
   ]
  },
  {
   "cell_type": "markdown",
   "metadata": {},
   "source": [
    "The music21 :ref:`moduleSerial` module provides a Stream-based representation\n",
    "of a 12-Tone row, as well as the ability to view these rows as a matrix.\n",
    "Additionally, numerous 12-tone rows from works are available as classes. \n",
    "\n",
    "For example, we can create an instance of the row from Alban Berg's *Violin\n",
    "Concerto*, use the `show()` method to display its contents as text, and then\n",
    "create and print a :class:`~music21.serial.TwelveToneMatrix` object. "
   ]
  },
  {
   "cell_type": "code",
   "execution_count": 18,
   "metadata": {
    "collapsed": false
   },
   "outputs": [
    {
     "name": "stdout",
     "output_type": "stream",
     "text": [
      "{0.0} <music21.note.Note G>\n",
      "{1.0} <music21.note.Note B->\n",
      "{2.0} <music21.note.Note D>\n",
      "{3.0} <music21.note.Note F#>\n",
      "{4.0} <music21.note.Note A>\n",
      "{5.0} <music21.note.Note C>\n",
      "{6.0} <music21.note.Note E>\n",
      "{7.0} <music21.note.Note G#>\n",
      "{8.0} <music21.note.Note B>\n",
      "{9.0} <music21.note.Note C#>\n",
      "{10.0} <music21.note.Note E->\n",
      "{11.0} <music21.note.Note F>\n"
     ]
    }
   ],
   "source": [
    "aRow = serial.getHistoricalRowByName('RowBergViolinConcerto')\n",
    "aRow.show('text')"
   ]
  },
  {
   "cell_type": "code",
   "execution_count": 19,
   "metadata": {
    "collapsed": false
   },
   "outputs": [
    {
     "name": "stdout",
     "output_type": "stream",
     "text": [
      "  0  3  7  B  2  5  9  1  4  6  8  A\n",
      "  9  0  4  8  B  2  6  A  1  3  5  7\n",
      "  5  8  0  4  7  A  2  6  9  B  1  3\n",
      "  1  4  8  0  3  6  A  2  5  7  9  B\n",
      "  A  1  5  9  0  3  7  B  2  4  6  8\n",
      "  7  A  2  6  9  0  4  8  B  1  3  5\n",
      "  3  6  A  2  5  8  0  4  7  9  B  1\n",
      "  B  2  6  A  1  4  8  0  3  5  7  9\n",
      "  8  B  3  7  A  1  5  9  0  2  4  6\n",
      "  6  9  1  5  8  B  3  7  A  0  2  4\n",
      "  4  7  B  3  6  9  1  5  8  A  0  2\n",
      "  2  5  9  1  4  7  B  3  6  8  A  0\n",
      "\n"
     ]
    }
   ],
   "source": [
    "aMatrix = aRow.matrix()\n",
    "print(aMatrix)"
   ]
  },
  {
   "cell_type": "markdown",
   "metadata": {},
   "source": [
    "We might divide this row into trichords, present each of those trichords as\n",
    "Chords, and label the resulting pitch classes and Forte set class. As shown\n",
    "above, we can set the `lyric` attribute to assign a single line of text. If we\n",
    "need to assign multiple lines of text, the Note and Chord method\n",
    ":meth:`~music21.note.GeneralNote.addLyric` can be used to add successive lines."
   ]
  },
  {
   "cell_type": "code",
   "execution_count": 20,
   "metadata": {
    "collapsed": false
   },
   "outputs": [
    {
     "data": {
      "image/png": "[encoded data removed]",
      "text/plain": [
       "<music21.ipython21.objects.IPythonPNGObject at 0x10551df98>"
      ]
     },
     "execution_count": 20,
     "metadata": {},
     "output_type": "execute_result"
    }
   ],
   "source": [
    "bStream = stream.Stream()\n",
    "for i in range(0,12,3):\n",
    "    c = chord.Chord(aRow[i:i+3])\n",
    "    c.addLyric(c.primeFormString)\n",
    "    c.addLyric(c.forteClass)\n",
    "    bStream.append(c)\n",
    "bStream.show()"
   ]
  }
 ],
 "metadata": {
  "kernelspec": {
   "display_name": "Python 3",
   "language": "python",
   "name": "python3"
  },
  "language_info": {
   "codemirror_mode": {
    "name": "ipython",
    "version": 3
   },
   "file_extension": ".py",
   "mimetype": "text/x-python",
   "name": "python",
   "nbconvert_exporter": "python",
   "pygments_lexer": "ipython3",
   "version": "3.4.3"
  }
 },
 "nbformat": 4,
 "nbformat_minor": 0
}
